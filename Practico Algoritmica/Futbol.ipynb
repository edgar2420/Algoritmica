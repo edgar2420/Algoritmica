{
 "cells": [
  {
   "cell_type": "code",
   "execution_count": 45,
   "metadata": {},
   "outputs": [],
   "source": [
    "from sklearn.cluster import KMeans\n",
    "from sklearn.datasets import make_blobs\n",
    "import numpy as np\n",
    "\n",
    "import pandas as pd\n",
    "import matplotlib.pyplot as plt"
   ]
  },
  {
   "cell_type": "code",
   "execution_count": 50,
   "metadata": {},
   "outputs": [],
   "source": [
    "df = pd.read_csv('attacking.csv')"
   ]
  },
  {
   "cell_type": "code",
   "execution_count": 60,
   "metadata": {},
   "outputs": [],
   "source": [
    "df = pd.DataFrame(x)"
   ]
  },
  {
   "cell_type": "code",
   "execution_count": 61,
   "metadata": {},
   "outputs": [
    {
     "data": {
      "text/html": [
       "<div>\n",
       "<style scoped>\n",
       "    .dataframe tbody tr th:only-of-type {\n",
       "        vertical-align: middle;\n",
       "    }\n",
       "\n",
       "    .dataframe tbody tr th {\n",
       "        vertical-align: top;\n",
       "    }\n",
       "\n",
       "    .dataframe thead th {\n",
       "        text-align: right;\n",
       "    }\n",
       "</style>\n",
       "<table border=\"1\" class=\"dataframe\">\n",
       "  <thead>\n",
       "    <tr style=\"text-align: right;\">\n",
       "      <th></th>\n",
       "      <th>0</th>\n",
       "      <th>1</th>\n",
       "    </tr>\n",
       "  </thead>\n",
       "  <tbody>\n",
       "    <tr>\n",
       "      <th>count</th>\n",
       "      <td>400.000000</td>\n",
       "      <td>400.000000</td>\n",
       "    </tr>\n",
       "    <tr>\n",
       "      <th>mean</th>\n",
       "      <td>0.407203</td>\n",
       "      <td>2.650954</td>\n",
       "    </tr>\n",
       "    <tr>\n",
       "      <th>std</th>\n",
       "      <td>1.784549</td>\n",
       "      <td>1.732440</td>\n",
       "    </tr>\n",
       "    <tr>\n",
       "      <th>min</th>\n",
       "      <td>-3.891078</td>\n",
       "      <td>-1.842014</td>\n",
       "    </tr>\n",
       "    <tr>\n",
       "      <th>25%</th>\n",
       "      <td>-1.052689</td>\n",
       "      <td>1.251689</td>\n",
       "    </tr>\n",
       "    <tr>\n",
       "      <th>50%</th>\n",
       "      <td>0.551884</td>\n",
       "      <td>2.749155</td>\n",
       "    </tr>\n",
       "    <tr>\n",
       "      <th>75%</th>\n",
       "      <td>1.767472</td>\n",
       "      <td>4.009604</td>\n",
       "    </tr>\n",
       "    <tr>\n",
       "      <th>max</th>\n",
       "      <td>4.751492</td>\n",
       "      <td>6.254563</td>\n",
       "    </tr>\n",
       "  </tbody>\n",
       "</table>\n",
       "</div>"
      ],
      "text/plain": [
       "                0           1\n",
       "count  400.000000  400.000000\n",
       "mean     0.407203    2.650954\n",
       "std      1.784549    1.732440\n",
       "min     -3.891078   -1.842014\n",
       "25%     -1.052689    1.251689\n",
       "50%      0.551884    2.749155\n",
       "75%      1.767472    4.009604\n",
       "max      4.751492    6.254563"
      ]
     },
     "execution_count": 61,
     "metadata": {},
     "output_type": "execute_result"
    }
   ],
   "source": [
    "df.describe()"
   ]
  },
  {
   "cell_type": "code",
   "execution_count": 62,
   "metadata": {},
   "outputs": [
    {
     "data": {
      "text/html": [
       "<div>\n",
       "<style scoped>\n",
       "    .dataframe tbody tr th:only-of-type {\n",
       "        vertical-align: middle;\n",
       "    }\n",
       "\n",
       "    .dataframe tbody tr th {\n",
       "        vertical-align: top;\n",
       "    }\n",
       "\n",
       "    .dataframe thead th {\n",
       "        text-align: right;\n",
       "    }\n",
       "</style>\n",
       "<table border=\"1\" class=\"dataframe\">\n",
       "  <thead>\n",
       "    <tr style=\"text-align: right;\">\n",
       "      <th></th>\n",
       "      <th>0</th>\n",
       "      <th>1</th>\n",
       "    </tr>\n",
       "  </thead>\n",
       "  <tbody>\n",
       "    <tr>\n",
       "      <th>0</th>\n",
       "      <td>-2.081214</td>\n",
       "      <td>2.447245</td>\n",
       "    </tr>\n",
       "    <tr>\n",
       "      <th>1</th>\n",
       "      <td>-1.897608</td>\n",
       "      <td>1.972266</td>\n",
       "    </tr>\n",
       "    <tr>\n",
       "      <th>2</th>\n",
       "      <td>2.115671</td>\n",
       "      <td>3.068962</td>\n",
       "    </tr>\n",
       "    <tr>\n",
       "      <th>3</th>\n",
       "      <td>1.402529</td>\n",
       "      <td>4.980695</td>\n",
       "    </tr>\n",
       "    <tr>\n",
       "      <th>4</th>\n",
       "      <td>-0.212589</td>\n",
       "      <td>3.796971</td>\n",
       "    </tr>\n",
       "  </tbody>\n",
       "</table>\n",
       "</div>"
      ],
      "text/plain": [
       "          0         1\n",
       "0 -2.081214  2.447245\n",
       "1 -1.897608  1.972266\n",
       "2  2.115671  3.068962\n",
       "3  1.402529  4.980695\n",
       "4 -0.212589  3.796971"
      ]
     },
     "execution_count": 62,
     "metadata": {},
     "output_type": "execute_result"
    }
   ],
   "source": [
    "df.head()"
   ]
  },
  {
   "cell_type": "code",
   "execution_count": 53,
   "metadata": {},
   "outputs": [],
   "source": [
    "df.drop('serial', axis=1, inplace=True)\n",
    "df.drop('player_name', axis=1, inplace=True)\n",
    "df.drop('club', axis=1, inplace=True)\n",
    "df.drop('position', axis=1, inplace=True)\n"
   ]
  },
  {
   "cell_type": "code",
   "execution_count": 63,
   "metadata": {},
   "outputs": [],
   "source": [
    "k_means_model = KMeans()"
   ]
  },
  {
   "cell_type": "code",
   "execution_count": 64,
   "metadata": {},
   "outputs": [
    {
     "name": "stderr",
     "output_type": "stream",
     "text": [
      "c:\\Users\\EdgarRojas\\AppData\\Local\\Programs\\Python\\Python311\\Lib\\site-packages\\sklearn\\cluster\\_kmeans.py:870: FutureWarning: The default value of `n_init` will change from 10 to 'auto' in 1.4. Set the value of `n_init` explicitly to suppress the warning\n",
      "  warnings.warn(\n"
     ]
    },
    {
     "data": {
      "text/html": [
       "<style>#sk-container-id-4 {color: black;background-color: white;}#sk-container-id-4 pre{padding: 0;}#sk-container-id-4 div.sk-toggleable {background-color: white;}#sk-container-id-4 label.sk-toggleable__label {cursor: pointer;display: block;width: 100%;margin-bottom: 0;padding: 0.3em;box-sizing: border-box;text-align: center;}#sk-container-id-4 label.sk-toggleable__label-arrow:before {content: \"▸\";float: left;margin-right: 0.25em;color: #696969;}#sk-container-id-4 label.sk-toggleable__label-arrow:hover:before {color: black;}#sk-container-id-4 div.sk-estimator:hover label.sk-toggleable__label-arrow:before {color: black;}#sk-container-id-4 div.sk-toggleable__content {max-height: 0;max-width: 0;overflow: hidden;text-align: left;background-color: #f0f8ff;}#sk-container-id-4 div.sk-toggleable__content pre {margin: 0.2em;color: black;border-radius: 0.25em;background-color: #f0f8ff;}#sk-container-id-4 input.sk-toggleable__control:checked~div.sk-toggleable__content {max-height: 200px;max-width: 100%;overflow: auto;}#sk-container-id-4 input.sk-toggleable__control:checked~label.sk-toggleable__label-arrow:before {content: \"▾\";}#sk-container-id-4 div.sk-estimator input.sk-toggleable__control:checked~label.sk-toggleable__label {background-color: #d4ebff;}#sk-container-id-4 div.sk-label input.sk-toggleable__control:checked~label.sk-toggleable__label {background-color: #d4ebff;}#sk-container-id-4 input.sk-hidden--visually {border: 0;clip: rect(1px 1px 1px 1px);clip: rect(1px, 1px, 1px, 1px);height: 1px;margin: -1px;overflow: hidden;padding: 0;position: absolute;width: 1px;}#sk-container-id-4 div.sk-estimator {font-family: monospace;background-color: #f0f8ff;border: 1px dotted black;border-radius: 0.25em;box-sizing: border-box;margin-bottom: 0.5em;}#sk-container-id-4 div.sk-estimator:hover {background-color: #d4ebff;}#sk-container-id-4 div.sk-parallel-item::after {content: \"\";width: 100%;border-bottom: 1px solid gray;flex-grow: 1;}#sk-container-id-4 div.sk-label:hover label.sk-toggleable__label {background-color: #d4ebff;}#sk-container-id-4 div.sk-serial::before {content: \"\";position: absolute;border-left: 1px solid gray;box-sizing: border-box;top: 0;bottom: 0;left: 50%;z-index: 0;}#sk-container-id-4 div.sk-serial {display: flex;flex-direction: column;align-items: center;background-color: white;padding-right: 0.2em;padding-left: 0.2em;position: relative;}#sk-container-id-4 div.sk-item {position: relative;z-index: 1;}#sk-container-id-4 div.sk-parallel {display: flex;align-items: stretch;justify-content: center;background-color: white;position: relative;}#sk-container-id-4 div.sk-item::before, #sk-container-id-4 div.sk-parallel-item::before {content: \"\";position: absolute;border-left: 1px solid gray;box-sizing: border-box;top: 0;bottom: 0;left: 50%;z-index: -1;}#sk-container-id-4 div.sk-parallel-item {display: flex;flex-direction: column;z-index: 1;position: relative;background-color: white;}#sk-container-id-4 div.sk-parallel-item:first-child::after {align-self: flex-end;width: 50%;}#sk-container-id-4 div.sk-parallel-item:last-child::after {align-self: flex-start;width: 50%;}#sk-container-id-4 div.sk-parallel-item:only-child::after {width: 0;}#sk-container-id-4 div.sk-dashed-wrapped {border: 1px dashed gray;margin: 0 0.4em 0.5em 0.4em;box-sizing: border-box;padding-bottom: 0.4em;background-color: white;}#sk-container-id-4 div.sk-label label {font-family: monospace;font-weight: bold;display: inline-block;line-height: 1.2em;}#sk-container-id-4 div.sk-label-container {text-align: center;}#sk-container-id-4 div.sk-container {/* jupyter's `normalize.less` sets `[hidden] { display: none; }` but bootstrap.min.css set `[hidden] { display: none !important; }` so we also need the `!important` here to be able to override the default hidden behavior on the sphinx rendered scikit-learn.org. See: https://github.com/scikit-learn/scikit-learn/issues/21755 */display: inline-block !important;position: relative;}#sk-container-id-4 div.sk-text-repr-fallback {display: none;}</style><div id=\"sk-container-id-4\" class=\"sk-top-container\"><div class=\"sk-text-repr-fallback\"><pre>KMeans()</pre><b>In a Jupyter environment, please rerun this cell to show the HTML representation or trust the notebook. <br />On GitHub, the HTML representation is unable to render, please try loading this page with nbviewer.org.</b></div><div class=\"sk-container\" hidden><div class=\"sk-item\"><div class=\"sk-estimator sk-toggleable\"><input class=\"sk-toggleable__control sk-hidden--visually\" id=\"sk-estimator-id-4\" type=\"checkbox\" checked><label for=\"sk-estimator-id-4\" class=\"sk-toggleable__label sk-toggleable__label-arrow\">KMeans</label><div class=\"sk-toggleable__content\"><pre>KMeans()</pre></div></div></div></div></div>"
      ],
      "text/plain": [
       "KMeans()"
      ]
     },
     "execution_count": 64,
     "metadata": {},
     "output_type": "execute_result"
    }
   ],
   "source": [
    "k_means_model.fit(df)"
   ]
  },
  {
   "cell_type": "code",
   "execution_count": 65,
   "metadata": {},
   "outputs": [
    {
     "data": {
      "text/plain": [
       "array([7, 7, 6, 2, 5, 1, 1, 0, 0, 4, 5, 7, 6, 7, 5, 5, 1, 4, 5, 1, 0, 7,\n",
       "       5, 0, 0, 4, 0, 4, 5, 2, 1, 6, 5, 1, 7, 1, 2, 6, 4, 0, 3, 1, 1, 6,\n",
       "       5, 5, 6, 3, 2, 7, 7, 5, 4, 6, 4, 5, 0, 6, 7, 1, 6, 6, 3, 1, 7, 0,\n",
       "       4, 3, 5, 6, 1, 1, 7, 7, 2, 6, 4, 2, 4, 6, 1, 0, 4, 3, 1, 5, 0, 6,\n",
       "       1, 2, 2, 6, 3, 7, 6, 2, 6, 7, 7, 6, 4, 3, 1, 7, 1, 5, 1, 1, 7, 3,\n",
       "       4, 3, 0, 7, 6, 6, 5, 0, 7, 6, 4, 6, 1, 1, 5, 3, 4, 6, 4, 4, 0, 2,\n",
       "       4, 3, 6, 0, 1, 5, 5, 3, 6, 4, 0, 2, 1, 5, 4, 4, 6, 4, 6, 0, 0, 5,\n",
       "       7, 0, 4, 6, 3, 0, 0, 4, 3, 3, 7, 1, 3, 0, 0, 1, 4, 3, 2, 1, 5, 7,\n",
       "       5, 3, 0, 0, 4, 4, 2, 6, 3, 2, 5, 0, 1, 0, 0, 4, 1, 2, 2, 0, 2, 4,\n",
       "       3, 5, 1, 7, 5, 0, 5, 2, 1, 1, 3, 5, 6, 7, 2, 0, 1, 5, 7, 3, 4, 4,\n",
       "       1, 0, 2, 7, 2, 6, 2, 2, 0, 5, 1, 0, 1, 4, 2, 7, 6, 3, 1, 1, 0, 5,\n",
       "       6, 1, 4, 4, 4, 5, 4, 0, 2, 4, 2, 7, 4, 6, 4, 7, 2, 1, 4, 3, 7, 6,\n",
       "       2, 2, 5, 5, 5, 2, 5, 6, 7, 5, 3, 2, 4, 1, 0, 4, 1, 0, 0, 0, 4, 5,\n",
       "       5, 5, 4, 1, 5, 1, 4, 5, 4, 5, 5, 4, 0, 0, 2, 7, 1, 2, 2, 3, 0, 1,\n",
       "       6, 2, 3, 5, 4, 6, 1, 3, 3, 4, 6, 7, 2, 3, 7, 7, 7, 7, 4, 7, 3, 6,\n",
       "       7, 5, 6, 2, 1, 4, 5, 1, 0, 1, 5, 2, 6, 0, 2, 4, 1, 7, 2, 5, 3, 4,\n",
       "       4, 4, 6, 3, 4, 7, 0, 1, 2, 4, 2, 1, 3, 1, 7, 0, 6, 2, 3, 7, 2, 7,\n",
       "       6, 3, 0, 0, 3, 5, 5, 2, 1, 0, 7, 7, 0, 7, 2, 6, 1, 2, 2, 5, 1, 3,\n",
       "       5, 6, 5, 1])"
      ]
     },
     "execution_count": 65,
     "metadata": {},
     "output_type": "execute_result"
    }
   ],
   "source": [
    "# Veamos como funcional el atributo labels\n",
    "k_means_model.labels_"
   ]
  },
  {
   "cell_type": "code",
   "execution_count": 66,
   "metadata": {},
   "outputs": [
    {
     "data": {
      "text/plain": [
       "array([[-1.50516817,  3.72799748],\n",
       "       [ 2.76288513,  1.3629848 ],\n",
       "       [ 1.76823146,  4.81384856],\n",
       "       [-0.75654504,  1.37890014],\n",
       "       [ 1.61277133,  0.10063608],\n",
       "       [ 0.09291895,  4.64793491],\n",
       "       [ 0.84647331,  2.92964644],\n",
       "       [-2.41401559,  2.4110514 ]])"
      ]
     },
     "execution_count": 66,
     "metadata": {},
     "output_type": "execute_result"
    }
   ],
   "source": [
    "k_means_model.cluster_centers_"
   ]
  },
  {
   "cell_type": "code",
   "execution_count": 68,
   "metadata": {},
   "outputs": [
    {
     "data": {
      "image/png": "[encoded data removed]",
      "text/plain": [
       "<Figure size 640x480 with 1 Axes>"
      ]
     },
     "metadata": {},
     "output_type": "display_data"
    }
   ],
   "source": [
    "# df.to_numpy() Este método nos permite convertir un objeto a un arreglo numpy\n",
    "plt.scatter(df.to_numpy()[:, 0], df.to_numpy()[:, 1], marker='.')\n",
    "plt.scatter(k_means_model.cluster_centers_[:, 0], k_means_model.cluster_centers_[:, 1], marker='v', c='r', s=100)\n",
    "plt.show()"
   ]
  },
  {
   "cell_type": "code",
   "execution_count": 69,
   "metadata": {},
   "outputs": [],
   "source": [
    "centers = range(1, 9)"
   ]
  },
  {
   "cell_type": "code",
   "execution_count": 70,
   "metadata": {},
   "outputs": [],
   "source": [
    "clusters = [KMeans(n_clusters=center) for center in centers]"
   ]
  },
  {
   "cell_type": "code",
   "execution_count": 71,
   "metadata": {},
   "outputs": [
    {
     "name": "stderr",
     "output_type": "stream",
     "text": [
      "c:\\Users\\EdgarRojas\\AppData\\Local\\Programs\\Python\\Python311\\Lib\\site-packages\\sklearn\\cluster\\_kmeans.py:870: FutureWarning: The default value of `n_init` will change from 10 to 'auto' in 1.4. Set the value of `n_init` explicitly to suppress the warning\n",
      "  warnings.warn(\n",
      "c:\\Users\\EdgarRojas\\AppData\\Local\\Programs\\Python\\Python311\\Lib\\site-packages\\sklearn\\cluster\\_kmeans.py:870: FutureWarning: The default value of `n_init` will change from 10 to 'auto' in 1.4. Set the value of `n_init` explicitly to suppress the warning\n",
      "  warnings.warn(\n",
      "c:\\Users\\EdgarRojas\\AppData\\Local\\Programs\\Python\\Python311\\Lib\\site-packages\\sklearn\\cluster\\_kmeans.py:870: FutureWarning: The default value of `n_init` will change from 10 to 'auto' in 1.4. Set the value of `n_init` explicitly to suppress the warning\n",
      "  warnings.warn(\n",
      "c:\\Users\\EdgarRojas\\AppData\\Local\\Programs\\Python\\Python311\\Lib\\site-packages\\sklearn\\cluster\\_kmeans.py:870: FutureWarning: The default value of `n_init` will change from 10 to 'auto' in 1.4. Set the value of `n_init` explicitly to suppress the warning\n",
      "  warnings.warn(\n",
      "c:\\Users\\EdgarRojas\\AppData\\Local\\Programs\\Python\\Python311\\Lib\\site-packages\\sklearn\\cluster\\_kmeans.py:870: FutureWarning: The default value of `n_init` will change from 10 to 'auto' in 1.4. Set the value of `n_init` explicitly to suppress the warning\n",
      "  warnings.warn(\n",
      "c:\\Users\\EdgarRojas\\AppData\\Local\\Programs\\Python\\Python311\\Lib\\site-packages\\sklearn\\cluster\\_kmeans.py:870: FutureWarning: The default value of `n_init` will change from 10 to 'auto' in 1.4. Set the value of `n_init` explicitly to suppress the warning\n",
      "  warnings.warn(\n",
      "c:\\Users\\EdgarRojas\\AppData\\Local\\Programs\\Python\\Python311\\Lib\\site-packages\\sklearn\\cluster\\_kmeans.py:870: FutureWarning: The default value of `n_init` will change from 10 to 'auto' in 1.4. Set the value of `n_init` explicitly to suppress the warning\n",
      "  warnings.warn(\n",
      "c:\\Users\\EdgarRojas\\AppData\\Local\\Programs\\Python\\Python311\\Lib\\site-packages\\sklearn\\cluster\\_kmeans.py:870: FutureWarning: The default value of `n_init` will change from 10 to 'auto' in 1.4. Set the value of `n_init` explicitly to suppress the warning\n",
      "  warnings.warn(\n"
     ]
    }
   ],
   "source": [
    "scores = [clusters[index].fit(df).score(df) for index in range(len(clusters))]"
   ]
  },
  {
   "cell_type": "code",
   "execution_count": 72,
   "metadata": {},
   "outputs": [
    {
     "data": {
      "image/png": "[encoded data removed]",
      "text/plain": [
       "<Figure size 640x480 with 1 Axes>"
      ]
     },
     "metadata": {},
     "output_type": "display_data"
    }
   ],
   "source": [
    "plt.plot(centers, scores)\n",
    "plt.xlabel('Número de grupos (clusters)')\n",
    "plt.ylabel('Calificación')\n",
    "plt.show()"
   ]
  },
  {
   "cell_type": "code",
   "execution_count": 73,
   "metadata": {},
   "outputs": [
    {
     "name": "stderr",
     "output_type": "stream",
     "text": [
      "c:\\Users\\EdgarRojas\\AppData\\Local\\Programs\\Python\\Python311\\Lib\\site-packages\\sklearn\\cluster\\_kmeans.py:870: FutureWarning: The default value of `n_init` will change from 10 to 'auto' in 1.4. Set the value of `n_init` explicitly to suppress the warning\n",
      "  warnings.warn(\n"
     ]
    },
    {
     "data": {
      "text/html": [
       "<style>#sk-container-id-5 {color: black;background-color: white;}#sk-container-id-5 pre{padding: 0;}#sk-container-id-5 div.sk-toggleable {background-color: white;}#sk-container-id-5 label.sk-toggleable__label {cursor: pointer;display: block;width: 100%;margin-bottom: 0;padding: 0.3em;box-sizing: border-box;text-align: center;}#sk-container-id-5 label.sk-toggleable__label-arrow:before {content: \"▸\";float: left;margin-right: 0.25em;color: #696969;}#sk-container-id-5 label.sk-toggleable__label-arrow:hover:before {color: black;}#sk-container-id-5 div.sk-estimator:hover label.sk-toggleable__label-arrow:before {color: black;}#sk-container-id-5 div.sk-toggleable__content {max-height: 0;max-width: 0;overflow: hidden;text-align: left;background-color: #f0f8ff;}#sk-container-id-5 div.sk-toggleable__content pre {margin: 0.2em;color: black;border-radius: 0.25em;background-color: #f0f8ff;}#sk-container-id-5 input.sk-toggleable__control:checked~div.sk-toggleable__content {max-height: 200px;max-width: 100%;overflow: auto;}#sk-container-id-5 input.sk-toggleable__control:checked~label.sk-toggleable__label-arrow:before {content: \"▾\";}#sk-container-id-5 div.sk-estimator input.sk-toggleable__control:checked~label.sk-toggleable__label {background-color: #d4ebff;}#sk-container-id-5 div.sk-label input.sk-toggleable__control:checked~label.sk-toggleable__label {background-color: #d4ebff;}#sk-container-id-5 input.sk-hidden--visually {border: 0;clip: rect(1px 1px 1px 1px);clip: rect(1px, 1px, 1px, 1px);height: 1px;margin: -1px;overflow: hidden;padding: 0;position: absolute;width: 1px;}#sk-container-id-5 div.sk-estimator {font-family: monospace;background-color: #f0f8ff;border: 1px dotted black;border-radius: 0.25em;box-sizing: border-box;margin-bottom: 0.5em;}#sk-container-id-5 div.sk-estimator:hover {background-color: #d4ebff;}#sk-container-id-5 div.sk-parallel-item::after {content: \"\";width: 100%;border-bottom: 1px solid gray;flex-grow: 1;}#sk-container-id-5 div.sk-label:hover label.sk-toggleable__label {background-color: #d4ebff;}#sk-container-id-5 div.sk-serial::before {content: \"\";position: absolute;border-left: 1px solid gray;box-sizing: border-box;top: 0;bottom: 0;left: 50%;z-index: 0;}#sk-container-id-5 div.sk-serial {display: flex;flex-direction: column;align-items: center;background-color: white;padding-right: 0.2em;padding-left: 0.2em;position: relative;}#sk-container-id-5 div.sk-item {position: relative;z-index: 1;}#sk-container-id-5 div.sk-parallel {display: flex;align-items: stretch;justify-content: center;background-color: white;position: relative;}#sk-container-id-5 div.sk-item::before, #sk-container-id-5 div.sk-parallel-item::before {content: \"\";position: absolute;border-left: 1px solid gray;box-sizing: border-box;top: 0;bottom: 0;left: 50%;z-index: -1;}#sk-container-id-5 div.sk-parallel-item {display: flex;flex-direction: column;z-index: 1;position: relative;background-color: white;}#sk-container-id-5 div.sk-parallel-item:first-child::after {align-self: flex-end;width: 50%;}#sk-container-id-5 div.sk-parallel-item:last-child::after {align-self: flex-start;width: 50%;}#sk-container-id-5 div.sk-parallel-item:only-child::after {width: 0;}#sk-container-id-5 div.sk-dashed-wrapped {border: 1px dashed gray;margin: 0 0.4em 0.5em 0.4em;box-sizing: border-box;padding-bottom: 0.4em;background-color: white;}#sk-container-id-5 div.sk-label label {font-family: monospace;font-weight: bold;display: inline-block;line-height: 1.2em;}#sk-container-id-5 div.sk-label-container {text-align: center;}#sk-container-id-5 div.sk-container {/* jupyter's `normalize.less` sets `[hidden] { display: none; }` but bootstrap.min.css set `[hidden] { display: none !important; }` so we also need the `!important` here to be able to override the default hidden behavior on the sphinx rendered scikit-learn.org. See: https://github.com/scikit-learn/scikit-learn/issues/21755 */display: inline-block !important;position: relative;}#sk-container-id-5 div.sk-text-repr-fallback {display: none;}</style><div id=\"sk-container-id-5\" class=\"sk-top-container\"><div class=\"sk-text-repr-fallback\"><pre>KMeans(n_clusters=3)</pre><b>In a Jupyter environment, please rerun this cell to show the HTML representation or trust the notebook. <br />On GitHub, the HTML representation is unable to render, please try loading this page with nbviewer.org.</b></div><div class=\"sk-container\" hidden><div class=\"sk-item\"><div class=\"sk-estimator sk-toggleable\"><input class=\"sk-toggleable__control sk-hidden--visually\" id=\"sk-estimator-id-5\" type=\"checkbox\" checked><label for=\"sk-estimator-id-5\" class=\"sk-toggleable__label sk-toggleable__label-arrow\">KMeans</label><div class=\"sk-toggleable__content\"><pre>KMeans(n_clusters=3)</pre></div></div></div></div></div>"
      ],
      "text/plain": [
       "KMeans(n_clusters=3)"
      ]
     },
     "execution_count": 73,
     "metadata": {},
     "output_type": "execute_result"
    }
   ],
   "source": [
    "improved_k_means = KMeans(n_clusters=3)\n",
    "improved_k_means.fit(df)"
   ]
  },
  {
   "cell_type": "code",
   "execution_count": 74,
   "metadata": {},
   "outputs": [
    {
     "data": {
      "image/png": "[encoded data removed]",
      "text/plain": [
       "<Figure size 640x480 with 1 Axes>"
      ]
     },
     "metadata": {},
     "output_type": "display_data"
    }
   ],
   "source": [
    "plt.scatter(df.to_numpy()[:, 0], df.to_numpy()[:, 1], marker='.')\n",
    "plt.scatter(improved_k_means.cluster_centers_[:, 0], improved_k_means.cluster_centers_[:, 1], marker='v', c='r', s=50)\n",
    "plt.show()"
   ]
  },
  {
   "cell_type": "code",
   "execution_count": 75,
   "metadata": {},
   "outputs": [
    {
     "data": {
      "text/plain": [
       "array([2, 2, 0, 0, 0, 1, 1, 2, 2, 1, 0, 2, 0, 2, 0, 0, 1, 1, 0, 1, 2, 2,\n",
       "       0, 2, 2, 1, 2, 1, 0, 0, 1, 2, 0, 1, 2, 1, 0, 0, 1, 2, 1, 1, 1, 2,\n",
       "       0, 0, 1, 1, 0, 2, 2, 0, 1, 0, 1, 0, 2, 0, 2, 1, 0, 1, 2, 1, 2, 2,\n",
       "       2, 2, 0, 0, 1, 1, 2, 2, 0, 2, 1, 0, 1, 0, 0, 2, 1, 2, 1, 0, 2, 1,\n",
       "       1, 0, 0, 1, 2, 2, 0, 0, 0, 2, 2, 0, 1, 1, 1, 2, 1, 0, 1, 1, 2, 1,\n",
       "       1, 2, 2, 2, 1, 2, 0, 2, 2, 1, 1, 0, 1, 1, 0, 2, 1, 1, 1, 1, 2, 0,\n",
       "       1, 2, 0, 2, 1, 0, 2, 2, 2, 1, 2, 0, 1, 0, 1, 1, 0, 1, 0, 2, 2, 0,\n",
       "       2, 2, 1, 0, 2, 2, 2, 1, 2, 1, 2, 1, 2, 2, 2, 1, 1, 2, 0, 1, 0, 2,\n",
       "       0, 2, 0, 2, 1, 1, 0, 0, 1, 0, 0, 2, 1, 2, 2, 1, 1, 0, 0, 2, 0, 1,\n",
       "       2, 0, 1, 2, 0, 2, 0, 0, 1, 1, 2, 0, 0, 2, 0, 2, 1, 0, 2, 2, 1, 1,\n",
       "       1, 2, 0, 2, 0, 1, 0, 0, 2, 0, 1, 0, 1, 1, 0, 2, 0, 2, 1, 0, 2, 0,\n",
       "       1, 1, 1, 1, 1, 0, 1, 2, 0, 1, 0, 2, 1, 0, 1, 2, 0, 1, 1, 1, 2, 0,\n",
       "       0, 0, 0, 0, 0, 0, 0, 2, 2, 0, 2, 0, 1, 1, 2, 1, 1, 2, 2, 2, 1, 0,\n",
       "       0, 0, 1, 1, 0, 0, 1, 0, 1, 0, 0, 1, 2, 2, 0, 2, 1, 0, 0, 2, 2, 1,\n",
       "       0, 0, 2, 0, 1, 0, 1, 2, 2, 1, 1, 2, 0, 2, 2, 2, 2, 2, 1, 2, 2, 1,\n",
       "       2, 2, 1, 0, 1, 1, 0, 1, 2, 1, 0, 0, 0, 2, 0, 1, 1, 2, 0, 0, 2, 1,\n",
       "       1, 1, 0, 2, 1, 2, 2, 1, 0, 1, 0, 1, 1, 1, 2, 2, 0, 0, 1, 2, 0, 2,\n",
       "       2, 1, 2, 2, 2, 0, 0, 0, 1, 2, 2, 2, 2, 2, 0, 0, 1, 0, 0, 0, 1, 1,\n",
       "       0, 0, 0, 0])"
      ]
     },
     "execution_count": 75,
     "metadata": {},
     "output_type": "execute_result"
    }
   ],
   "source": [
    "y"
   ]
  },
  {
   "cell_type": "code",
   "execution_count": 76,
   "metadata": {},
   "outputs": [
    {
     "data": {
      "text/plain": [
       "array([2, 2, 0, 0, 0, 1, 1, 2, 2, 1, 0, 2, 0, 2, 0, 0, 1, 1, 0, 1, 2, 2,\n",
       "       0, 2, 2, 1, 2, 1, 0, 0, 1, 0, 0, 1, 2, 1, 0, 0, 1, 2, 2, 1, 1, 0,\n",
       "       0, 0, 0, 1, 0, 2, 2, 0, 1, 2, 1, 0, 2, 0, 2, 1, 2, 1, 2, 1, 2, 2,\n",
       "       1, 2, 0, 2, 1, 1, 2, 2, 0, 2, 1, 0, 1, 0, 1, 0, 1, 2, 1, 0, 2, 1,\n",
       "       1, 0, 0, 0, 2, 2, 0, 0, 0, 2, 2, 0, 1, 2, 1, 2, 1, 0, 1, 1, 2, 1,\n",
       "       1, 2, 2, 2, 0, 0, 0, 2, 2, 1, 1, 0, 1, 1, 0, 2, 1, 0, 1, 1, 2, 0,\n",
       "       1, 2, 2, 2, 1, 0, 0, 2, 0, 1, 2, 0, 1, 0, 1, 1, 0, 1, 0, 2, 2, 0,\n",
       "       2, 2, 1, 0, 2, 0, 2, 1, 2, 1, 2, 1, 2, 2, 2, 1, 1, 2, 0, 1, 0, 2,\n",
       "       0, 1, 2, 2, 1, 1, 0, 0, 2, 0, 0, 2, 1, 2, 2, 1, 1, 0, 0, 2, 0, 1,\n",
       "       2, 0, 1, 2, 0, 2, 0, 0, 1, 1, 2, 0, 0, 2, 0, 2, 1, 0, 2, 2, 1, 1,\n",
       "       1, 2, 0, 2, 0, 1, 0, 0, 2, 0, 1, 0, 1, 1, 0, 2, 0, 2, 1, 1, 2, 0,\n",
       "       0, 1, 1, 1, 1, 0, 1, 2, 0, 1, 0, 2, 1, 0, 1, 2, 0, 1, 1, 1, 2, 0,\n",
       "       0, 0, 0, 0, 0, 0, 0, 0, 2, 0, 2, 0, 1, 1, 2, 1, 1, 2, 2, 2, 1, 0,\n",
       "       0, 0, 1, 1, 0, 1, 1, 0, 1, 0, 0, 1, 2, 2, 0, 2, 1, 0, 0, 2, 0, 1,\n",
       "       0, 0, 2, 0, 1, 0, 1, 1, 2, 1, 1, 2, 0, 2, 2, 2, 2, 2, 1, 2, 2, 1,\n",
       "       2, 0, 1, 0, 1, 1, 0, 1, 2, 1, 0, 0, 0, 2, 0, 1, 1, 2, 0, 0, 2, 1,\n",
       "       1, 1, 0, 2, 1, 2, 2, 1, 0, 1, 0, 1, 1, 1, 2, 2, 1, 0, 1, 2, 0, 2,\n",
       "       2, 2, 2, 2, 2, 0, 0, 0, 1, 2, 2, 2, 2, 2, 0, 0, 1, 0, 0, 0, 1, 1,\n",
       "       0, 0, 0, 1])"
      ]
     },
     "execution_count": 76,
     "metadata": {},
     "output_type": "execute_result"
    }
   ],
   "source": [
    "improved_k_means.labels_"
   ]
  },
  {
   "cell_type": "code",
   "execution_count": 77,
   "metadata": {},
   "outputs": [],
   "source": [
    "df_labels = pd.DataFrame(improved_k_means.labels_)"
   ]
  },
  {
   "cell_type": "code",
   "execution_count": 78,
   "metadata": {},
   "outputs": [
    {
     "data": {
      "text/plain": [
       "array([2, 0, 1])"
      ]
     },
     "execution_count": 78,
     "metadata": {},
     "output_type": "execute_result"
    }
   ],
   "source": [
    "df_labels[0].unique()"
   ]
  },
  {
   "cell_type": "code",
   "execution_count": 79,
   "metadata": {},
   "outputs": [
    {
     "data": {
      "text/plain": [
       "array([[ 0.84299197,  4.3602611 ],\n",
       "       [ 1.97866944,  0.82312532],\n",
       "       [-1.67037977,  2.67947776]])"
      ]
     },
     "execution_count": 79,
     "metadata": {},
     "output_type": "execute_result"
    }
   ],
   "source": [
    "improved_k_means.cluster_centers_"
   ]
  },
  {
   "cell_type": "code",
   "execution_count": 80,
   "metadata": {},
   "outputs": [],
   "source": [
    "labels = ['Asistencias','Offsides', 'Dribbles']"
   ]
  },
  {
   "cell_type": "code",
   "execution_count": 81,
   "metadata": {},
   "outputs": [],
   "source": [
    "predicted = improved_k_means.predict(df)"
   ]
  },
  {
   "cell_type": "code",
   "execution_count": 83,
   "metadata": {},
   "outputs": [
    {
     "name": "stdout",
     "output_type": "stream",
     "text": [
      "El Jugador #0 pertenece al grupo de: Dribbles\n",
      "El Jugador #1 pertenece al grupo de: Dribbles\n",
      "El Jugador #2 pertenece al grupo de: Asistencias\n",
      "El Jugador #3 pertenece al grupo de: Asistencias\n",
      "El Jugador #4 pertenece al grupo de: Asistencias\n",
      "El Jugador #5 pertenece al grupo de: Offsides\n",
      "El Jugador #6 pertenece al grupo de: Offsides\n",
      "El Jugador #7 pertenece al grupo de: Dribbles\n",
      "El Jugador #8 pertenece al grupo de: Dribbles\n",
      "El Jugador #9 pertenece al grupo de: Offsides\n",
      "El Jugador #10 pertenece al grupo de: Asistencias\n",
      "El Jugador #11 pertenece al grupo de: Dribbles\n",
      "El Jugador #12 pertenece al grupo de: Asistencias\n",
      "El Jugador #13 pertenece al grupo de: Dribbles\n",
      "El Jugador #14 pertenece al grupo de: Asistencias\n",
      "El Jugador #15 pertenece al grupo de: Asistencias\n",
      "El Jugador #16 pertenece al grupo de: Offsides\n",
      "El Jugador #17 pertenece al grupo de: Offsides\n",
      "El Jugador #18 pertenece al grupo de: Asistencias\n",
      "El Jugador #19 pertenece al grupo de: Offsides\n",
      "El Jugador #20 pertenece al grupo de: Dribbles\n",
      "El Jugador #21 pertenece al grupo de: Dribbles\n",
      "El Jugador #22 pertenece al grupo de: Asistencias\n",
      "El Jugador #23 pertenece al grupo de: Dribbles\n",
      "El Jugador #24 pertenece al grupo de: Dribbles\n",
      "El Jugador #25 pertenece al grupo de: Offsides\n",
      "El Jugador #26 pertenece al grupo de: Dribbles\n",
      "El Jugador #27 pertenece al grupo de: Offsides\n",
      "El Jugador #28 pertenece al grupo de: Asistencias\n",
      "El Jugador #29 pertenece al grupo de: Asistencias\n",
      "El Jugador #30 pertenece al grupo de: Offsides\n",
      "El Jugador #31 pertenece al grupo de: Asistencias\n",
      "El Jugador #32 pertenece al grupo de: Asistencias\n",
      "El Jugador #33 pertenece al grupo de: Offsides\n",
      "El Jugador #34 pertenece al grupo de: Dribbles\n",
      "El Jugador #35 pertenece al grupo de: Offsides\n",
      "El Jugador #36 pertenece al grupo de: Asistencias\n",
      "El Jugador #37 pertenece al grupo de: Asistencias\n",
      "El Jugador #38 pertenece al grupo de: Offsides\n",
      "El Jugador #39 pertenece al grupo de: Dribbles\n",
      "El Jugador #40 pertenece al grupo de: Dribbles\n",
      "El Jugador #41 pertenece al grupo de: Offsides\n",
      "El Jugador #42 pertenece al grupo de: Offsides\n",
      "El Jugador #43 pertenece al grupo de: Asistencias\n",
      "El Jugador #44 pertenece al grupo de: Asistencias\n",
      "El Jugador #45 pertenece al grupo de: Asistencias\n",
      "El Jugador #46 pertenece al grupo de: Asistencias\n",
      "El Jugador #47 pertenece al grupo de: Offsides\n",
      "El Jugador #48 pertenece al grupo de: Asistencias\n",
      "El Jugador #49 pertenece al grupo de: Dribbles\n",
      "El Jugador #50 pertenece al grupo de: Dribbles\n",
      "El Jugador #51 pertenece al grupo de: Asistencias\n",
      "El Jugador #52 pertenece al grupo de: Offsides\n",
      "El Jugador #53 pertenece al grupo de: Dribbles\n",
      "El Jugador #54 pertenece al grupo de: Offsides\n",
      "El Jugador #55 pertenece al grupo de: Asistencias\n",
      "El Jugador #56 pertenece al grupo de: Dribbles\n",
      "El Jugador #57 pertenece al grupo de: Asistencias\n",
      "El Jugador #58 pertenece al grupo de: Dribbles\n",
      "El Jugador #59 pertenece al grupo de: Offsides\n",
      "El Jugador #60 pertenece al grupo de: Dribbles\n",
      "El Jugador #61 pertenece al grupo de: Offsides\n",
      "El Jugador #62 pertenece al grupo de: Dribbles\n",
      "El Jugador #63 pertenece al grupo de: Offsides\n",
      "El Jugador #64 pertenece al grupo de: Dribbles\n",
      "El Jugador #65 pertenece al grupo de: Dribbles\n",
      "El Jugador #66 pertenece al grupo de: Offsides\n",
      "El Jugador #67 pertenece al grupo de: Dribbles\n",
      "El Jugador #68 pertenece al grupo de: Asistencias\n",
      "El Jugador #69 pertenece al grupo de: Dribbles\n",
      "El Jugador #70 pertenece al grupo de: Offsides\n",
      "El Jugador #71 pertenece al grupo de: Offsides\n",
      "El Jugador #72 pertenece al grupo de: Dribbles\n",
      "El Jugador #73 pertenece al grupo de: Dribbles\n",
      "El Jugador #74 pertenece al grupo de: Asistencias\n",
      "El Jugador #75 pertenece al grupo de: Dribbles\n",
      "El Jugador #76 pertenece al grupo de: Offsides\n",
      "El Jugador #77 pertenece al grupo de: Asistencias\n",
      "El Jugador #78 pertenece al grupo de: Offsides\n",
      "El Jugador #79 pertenece al grupo de: Asistencias\n",
      "El Jugador #80 pertenece al grupo de: Offsides\n",
      "El Jugador #81 pertenece al grupo de: Asistencias\n",
      "El Jugador #82 pertenece al grupo de: Offsides\n",
      "El Jugador #83 pertenece al grupo de: Dribbles\n",
      "El Jugador #84 pertenece al grupo de: Offsides\n",
      "El Jugador #85 pertenece al grupo de: Asistencias\n",
      "El Jugador #86 pertenece al grupo de: Dribbles\n",
      "El Jugador #87 pertenece al grupo de: Offsides\n",
      "El Jugador #88 pertenece al grupo de: Offsides\n",
      "El Jugador #89 pertenece al grupo de: Asistencias\n",
      "El Jugador #90 pertenece al grupo de: Asistencias\n",
      "El Jugador #91 pertenece al grupo de: Asistencias\n",
      "El Jugador #92 pertenece al grupo de: Dribbles\n",
      "El Jugador #93 pertenece al grupo de: Dribbles\n",
      "El Jugador #94 pertenece al grupo de: Asistencias\n",
      "El Jugador #95 pertenece al grupo de: Asistencias\n",
      "El Jugador #96 pertenece al grupo de: Asistencias\n",
      "El Jugador #97 pertenece al grupo de: Dribbles\n",
      "El Jugador #98 pertenece al grupo de: Dribbles\n",
      "El Jugador #99 pertenece al grupo de: Asistencias\n",
      "El Jugador #100 pertenece al grupo de: Offsides\n",
      "El Jugador #101 pertenece al grupo de: Dribbles\n",
      "El Jugador #102 pertenece al grupo de: Offsides\n",
      "El Jugador #103 pertenece al grupo de: Dribbles\n",
      "El Jugador #104 pertenece al grupo de: Offsides\n",
      "El Jugador #105 pertenece al grupo de: Asistencias\n",
      "El Jugador #106 pertenece al grupo de: Offsides\n",
      "El Jugador #107 pertenece al grupo de: Offsides\n",
      "El Jugador #108 pertenece al grupo de: Dribbles\n",
      "El Jugador #109 pertenece al grupo de: Offsides\n",
      "El Jugador #110 pertenece al grupo de: Offsides\n",
      "El Jugador #111 pertenece al grupo de: Dribbles\n",
      "El Jugador #112 pertenece al grupo de: Dribbles\n",
      "El Jugador #113 pertenece al grupo de: Dribbles\n",
      "El Jugador #114 pertenece al grupo de: Asistencias\n",
      "El Jugador #115 pertenece al grupo de: Asistencias\n",
      "El Jugador #116 pertenece al grupo de: Asistencias\n",
      "El Jugador #117 pertenece al grupo de: Dribbles\n",
      "El Jugador #118 pertenece al grupo de: Dribbles\n",
      "El Jugador #119 pertenece al grupo de: Offsides\n",
      "El Jugador #120 pertenece al grupo de: Offsides\n",
      "El Jugador #121 pertenece al grupo de: Asistencias\n",
      "El Jugador #122 pertenece al grupo de: Offsides\n",
      "El Jugador #123 pertenece al grupo de: Offsides\n",
      "El Jugador #124 pertenece al grupo de: Asistencias\n",
      "El Jugador #125 pertenece al grupo de: Dribbles\n",
      "El Jugador #126 pertenece al grupo de: Offsides\n",
      "El Jugador #127 pertenece al grupo de: Asistencias\n",
      "El Jugador #128 pertenece al grupo de: Offsides\n",
      "El Jugador #129 pertenece al grupo de: Offsides\n",
      "El Jugador #130 pertenece al grupo de: Dribbles\n",
      "El Jugador #131 pertenece al grupo de: Asistencias\n",
      "El Jugador #132 pertenece al grupo de: Offsides\n",
      "El Jugador #133 pertenece al grupo de: Dribbles\n",
      "El Jugador #134 pertenece al grupo de: Dribbles\n",
      "El Jugador #135 pertenece al grupo de: Dribbles\n",
      "El Jugador #136 pertenece al grupo de: Offsides\n",
      "El Jugador #137 pertenece al grupo de: Asistencias\n",
      "El Jugador #138 pertenece al grupo de: Asistencias\n",
      "El Jugador #139 pertenece al grupo de: Dribbles\n",
      "El Jugador #140 pertenece al grupo de: Asistencias\n",
      "El Jugador #141 pertenece al grupo de: Offsides\n",
      "El Jugador #142 pertenece al grupo de: Dribbles\n",
      "El Jugador #143 pertenece al grupo de: Asistencias\n",
      "El Jugador #144 pertenece al grupo de: Offsides\n",
      "El Jugador #145 pertenece al grupo de: Asistencias\n",
      "El Jugador #146 pertenece al grupo de: Offsides\n",
      "El Jugador #147 pertenece al grupo de: Offsides\n",
      "El Jugador #148 pertenece al grupo de: Asistencias\n",
      "El Jugador #149 pertenece al grupo de: Offsides\n",
      "El Jugador #150 pertenece al grupo de: Asistencias\n",
      "El Jugador #151 pertenece al grupo de: Dribbles\n",
      "El Jugador #152 pertenece al grupo de: Dribbles\n",
      "El Jugador #153 pertenece al grupo de: Asistencias\n",
      "El Jugador #154 pertenece al grupo de: Dribbles\n",
      "El Jugador #155 pertenece al grupo de: Dribbles\n",
      "El Jugador #156 pertenece al grupo de: Offsides\n",
      "El Jugador #157 pertenece al grupo de: Asistencias\n",
      "El Jugador #158 pertenece al grupo de: Dribbles\n",
      "El Jugador #159 pertenece al grupo de: Asistencias\n",
      "El Jugador #160 pertenece al grupo de: Dribbles\n",
      "El Jugador #161 pertenece al grupo de: Offsides\n",
      "El Jugador #162 pertenece al grupo de: Dribbles\n",
      "El Jugador #163 pertenece al grupo de: Offsides\n",
      "El Jugador #164 pertenece al grupo de: Dribbles\n",
      "El Jugador #165 pertenece al grupo de: Offsides\n",
      "El Jugador #166 pertenece al grupo de: Dribbles\n",
      "El Jugador #167 pertenece al grupo de: Dribbles\n",
      "El Jugador #168 pertenece al grupo de: Dribbles\n",
      "El Jugador #169 pertenece al grupo de: Offsides\n",
      "El Jugador #170 pertenece al grupo de: Offsides\n",
      "El Jugador #171 pertenece al grupo de: Dribbles\n",
      "El Jugador #172 pertenece al grupo de: Asistencias\n",
      "El Jugador #173 pertenece al grupo de: Offsides\n",
      "El Jugador #174 pertenece al grupo de: Asistencias\n",
      "El Jugador #175 pertenece al grupo de: Dribbles\n",
      "El Jugador #176 pertenece al grupo de: Asistencias\n",
      "El Jugador #177 pertenece al grupo de: Offsides\n",
      "El Jugador #178 pertenece al grupo de: Dribbles\n",
      "El Jugador #179 pertenece al grupo de: Dribbles\n",
      "El Jugador #180 pertenece al grupo de: Offsides\n",
      "El Jugador #181 pertenece al grupo de: Offsides\n",
      "El Jugador #182 pertenece al grupo de: Asistencias\n",
      "El Jugador #183 pertenece al grupo de: Asistencias\n",
      "El Jugador #184 pertenece al grupo de: Dribbles\n",
      "El Jugador #185 pertenece al grupo de: Asistencias\n",
      "El Jugador #186 pertenece al grupo de: Asistencias\n",
      "El Jugador #187 pertenece al grupo de: Dribbles\n",
      "El Jugador #188 pertenece al grupo de: Offsides\n",
      "El Jugador #189 pertenece al grupo de: Dribbles\n",
      "El Jugador #190 pertenece al grupo de: Dribbles\n",
      "El Jugador #191 pertenece al grupo de: Offsides\n",
      "El Jugador #192 pertenece al grupo de: Offsides\n",
      "El Jugador #193 pertenece al grupo de: Asistencias\n",
      "El Jugador #194 pertenece al grupo de: Asistencias\n",
      "El Jugador #195 pertenece al grupo de: Dribbles\n",
      "El Jugador #196 pertenece al grupo de: Asistencias\n",
      "El Jugador #197 pertenece al grupo de: Offsides\n",
      "El Jugador #198 pertenece al grupo de: Dribbles\n",
      "El Jugador #199 pertenece al grupo de: Asistencias\n",
      "El Jugador #200 pertenece al grupo de: Offsides\n",
      "El Jugador #201 pertenece al grupo de: Dribbles\n",
      "El Jugador #202 pertenece al grupo de: Asistencias\n",
      "El Jugador #203 pertenece al grupo de: Dribbles\n",
      "El Jugador #204 pertenece al grupo de: Asistencias\n",
      "El Jugador #205 pertenece al grupo de: Asistencias\n",
      "El Jugador #206 pertenece al grupo de: Offsides\n",
      "El Jugador #207 pertenece al grupo de: Offsides\n",
      "El Jugador #208 pertenece al grupo de: Dribbles\n",
      "El Jugador #209 pertenece al grupo de: Asistencias\n",
      "El Jugador #210 pertenece al grupo de: Asistencias\n",
      "El Jugador #211 pertenece al grupo de: Dribbles\n",
      "El Jugador #212 pertenece al grupo de: Asistencias\n",
      "El Jugador #213 pertenece al grupo de: Dribbles\n",
      "El Jugador #214 pertenece al grupo de: Offsides\n",
      "El Jugador #215 pertenece al grupo de: Asistencias\n",
      "El Jugador #216 pertenece al grupo de: Dribbles\n",
      "El Jugador #217 pertenece al grupo de: Dribbles\n",
      "El Jugador #218 pertenece al grupo de: Offsides\n",
      "El Jugador #219 pertenece al grupo de: Offsides\n",
      "El Jugador #220 pertenece al grupo de: Offsides\n",
      "El Jugador #221 pertenece al grupo de: Dribbles\n",
      "El Jugador #222 pertenece al grupo de: Asistencias\n",
      "El Jugador #223 pertenece al grupo de: Dribbles\n",
      "El Jugador #224 pertenece al grupo de: Asistencias\n",
      "El Jugador #225 pertenece al grupo de: Offsides\n",
      "El Jugador #226 pertenece al grupo de: Asistencias\n",
      "El Jugador #227 pertenece al grupo de: Asistencias\n",
      "El Jugador #228 pertenece al grupo de: Dribbles\n",
      "El Jugador #229 pertenece al grupo de: Asistencias\n",
      "El Jugador #230 pertenece al grupo de: Offsides\n",
      "El Jugador #231 pertenece al grupo de: Asistencias\n",
      "El Jugador #232 pertenece al grupo de: Offsides\n",
      "El Jugador #233 pertenece al grupo de: Offsides\n",
      "El Jugador #234 pertenece al grupo de: Asistencias\n",
      "El Jugador #235 pertenece al grupo de: Dribbles\n",
      "El Jugador #236 pertenece al grupo de: Asistencias\n",
      "El Jugador #237 pertenece al grupo de: Dribbles\n",
      "El Jugador #238 pertenece al grupo de: Offsides\n",
      "El Jugador #239 pertenece al grupo de: Offsides\n",
      "El Jugador #240 pertenece al grupo de: Dribbles\n",
      "El Jugador #241 pertenece al grupo de: Asistencias\n",
      "El Jugador #242 pertenece al grupo de: Asistencias\n",
      "El Jugador #243 pertenece al grupo de: Offsides\n",
      "El Jugador #244 pertenece al grupo de: Offsides\n",
      "El Jugador #245 pertenece al grupo de: Offsides\n",
      "El Jugador #246 pertenece al grupo de: Offsides\n",
      "El Jugador #247 pertenece al grupo de: Asistencias\n",
      "El Jugador #248 pertenece al grupo de: Offsides\n",
      "El Jugador #249 pertenece al grupo de: Dribbles\n",
      "El Jugador #250 pertenece al grupo de: Asistencias\n",
      "El Jugador #251 pertenece al grupo de: Offsides\n",
      "El Jugador #252 pertenece al grupo de: Asistencias\n",
      "El Jugador #253 pertenece al grupo de: Dribbles\n",
      "El Jugador #254 pertenece al grupo de: Offsides\n",
      "El Jugador #255 pertenece al grupo de: Asistencias\n",
      "El Jugador #256 pertenece al grupo de: Offsides\n",
      "El Jugador #257 pertenece al grupo de: Dribbles\n",
      "El Jugador #258 pertenece al grupo de: Asistencias\n",
      "El Jugador #259 pertenece al grupo de: Offsides\n",
      "El Jugador #260 pertenece al grupo de: Offsides\n",
      "El Jugador #261 pertenece al grupo de: Offsides\n",
      "El Jugador #262 pertenece al grupo de: Dribbles\n",
      "El Jugador #263 pertenece al grupo de: Asistencias\n",
      "El Jugador #264 pertenece al grupo de: Asistencias\n",
      "El Jugador #265 pertenece al grupo de: Asistencias\n",
      "El Jugador #266 pertenece al grupo de: Asistencias\n",
      "El Jugador #267 pertenece al grupo de: Asistencias\n",
      "El Jugador #268 pertenece al grupo de: Asistencias\n",
      "El Jugador #269 pertenece al grupo de: Asistencias\n",
      "El Jugador #270 pertenece al grupo de: Asistencias\n",
      "El Jugador #271 pertenece al grupo de: Asistencias\n",
      "El Jugador #272 pertenece al grupo de: Dribbles\n",
      "El Jugador #273 pertenece al grupo de: Asistencias\n",
      "El Jugador #274 pertenece al grupo de: Dribbles\n",
      "El Jugador #275 pertenece al grupo de: Asistencias\n",
      "El Jugador #276 pertenece al grupo de: Offsides\n",
      "El Jugador #277 pertenece al grupo de: Offsides\n",
      "El Jugador #278 pertenece al grupo de: Dribbles\n",
      "El Jugador #279 pertenece al grupo de: Offsides\n",
      "El Jugador #280 pertenece al grupo de: Offsides\n",
      "El Jugador #281 pertenece al grupo de: Dribbles\n",
      "El Jugador #282 pertenece al grupo de: Dribbles\n",
      "El Jugador #283 pertenece al grupo de: Dribbles\n",
      "El Jugador #284 pertenece al grupo de: Offsides\n",
      "El Jugador #285 pertenece al grupo de: Asistencias\n",
      "El Jugador #286 pertenece al grupo de: Asistencias\n",
      "El Jugador #287 pertenece al grupo de: Asistencias\n",
      "El Jugador #288 pertenece al grupo de: Offsides\n",
      "El Jugador #289 pertenece al grupo de: Offsides\n",
      "El Jugador #290 pertenece al grupo de: Asistencias\n",
      "El Jugador #291 pertenece al grupo de: Offsides\n",
      "El Jugador #292 pertenece al grupo de: Offsides\n",
      "El Jugador #293 pertenece al grupo de: Asistencias\n",
      "El Jugador #294 pertenece al grupo de: Offsides\n",
      "El Jugador #295 pertenece al grupo de: Asistencias\n",
      "El Jugador #296 pertenece al grupo de: Asistencias\n",
      "El Jugador #297 pertenece al grupo de: Offsides\n",
      "El Jugador #298 pertenece al grupo de: Dribbles\n",
      "El Jugador #299 pertenece al grupo de: Dribbles\n",
      "El Jugador #300 pertenece al grupo de: Asistencias\n",
      "El Jugador #301 pertenece al grupo de: Dribbles\n",
      "El Jugador #302 pertenece al grupo de: Offsides\n",
      "El Jugador #303 pertenece al grupo de: Asistencias\n",
      "El Jugador #304 pertenece al grupo de: Asistencias\n",
      "El Jugador #305 pertenece al grupo de: Dribbles\n",
      "El Jugador #306 pertenece al grupo de: Asistencias\n",
      "El Jugador #307 pertenece al grupo de: Offsides\n",
      "El Jugador #308 pertenece al grupo de: Asistencias\n",
      "El Jugador #309 pertenece al grupo de: Asistencias\n",
      "El Jugador #310 pertenece al grupo de: Dribbles\n",
      "El Jugador #311 pertenece al grupo de: Asistencias\n",
      "El Jugador #312 pertenece al grupo de: Offsides\n",
      "El Jugador #313 pertenece al grupo de: Asistencias\n",
      "El Jugador #314 pertenece al grupo de: Offsides\n",
      "El Jugador #315 pertenece al grupo de: Offsides\n",
      "El Jugador #316 pertenece al grupo de: Dribbles\n",
      "El Jugador #317 pertenece al grupo de: Offsides\n",
      "El Jugador #318 pertenece al grupo de: Offsides\n",
      "El Jugador #319 pertenece al grupo de: Dribbles\n",
      "El Jugador #320 pertenece al grupo de: Asistencias\n",
      "El Jugador #321 pertenece al grupo de: Dribbles\n",
      "El Jugador #322 pertenece al grupo de: Dribbles\n",
      "El Jugador #323 pertenece al grupo de: Dribbles\n",
      "El Jugador #324 pertenece al grupo de: Dribbles\n",
      "El Jugador #325 pertenece al grupo de: Dribbles\n",
      "El Jugador #326 pertenece al grupo de: Offsides\n",
      "El Jugador #327 pertenece al grupo de: Dribbles\n",
      "El Jugador #328 pertenece al grupo de: Dribbles\n",
      "El Jugador #329 pertenece al grupo de: Offsides\n",
      "El Jugador #330 pertenece al grupo de: Dribbles\n",
      "El Jugador #331 pertenece al grupo de: Asistencias\n",
      "El Jugador #332 pertenece al grupo de: Offsides\n",
      "El Jugador #333 pertenece al grupo de: Asistencias\n",
      "El Jugador #334 pertenece al grupo de: Offsides\n",
      "El Jugador #335 pertenece al grupo de: Offsides\n",
      "El Jugador #336 pertenece al grupo de: Asistencias\n",
      "El Jugador #337 pertenece al grupo de: Offsides\n",
      "El Jugador #338 pertenece al grupo de: Dribbles\n",
      "El Jugador #339 pertenece al grupo de: Offsides\n",
      "El Jugador #340 pertenece al grupo de: Asistencias\n",
      "El Jugador #341 pertenece al grupo de: Asistencias\n",
      "El Jugador #342 pertenece al grupo de: Asistencias\n",
      "El Jugador #343 pertenece al grupo de: Dribbles\n",
      "El Jugador #344 pertenece al grupo de: Asistencias\n",
      "El Jugador #345 pertenece al grupo de: Offsides\n",
      "El Jugador #346 pertenece al grupo de: Offsides\n",
      "El Jugador #347 pertenece al grupo de: Dribbles\n",
      "El Jugador #348 pertenece al grupo de: Asistencias\n",
      "El Jugador #349 pertenece al grupo de: Asistencias\n",
      "El Jugador #350 pertenece al grupo de: Dribbles\n",
      "El Jugador #351 pertenece al grupo de: Offsides\n",
      "El Jugador #352 pertenece al grupo de: Offsides\n",
      "El Jugador #353 pertenece al grupo de: Offsides\n",
      "El Jugador #354 pertenece al grupo de: Asistencias\n",
      "El Jugador #355 pertenece al grupo de: Dribbles\n",
      "El Jugador #356 pertenece al grupo de: Offsides\n",
      "El Jugador #357 pertenece al grupo de: Dribbles\n",
      "El Jugador #358 pertenece al grupo de: Dribbles\n",
      "El Jugador #359 pertenece al grupo de: Offsides\n",
      "El Jugador #360 pertenece al grupo de: Asistencias\n",
      "El Jugador #361 pertenece al grupo de: Offsides\n",
      "El Jugador #362 pertenece al grupo de: Asistencias\n",
      "El Jugador #363 pertenece al grupo de: Offsides\n",
      "El Jugador #364 pertenece al grupo de: Offsides\n",
      "El Jugador #365 pertenece al grupo de: Offsides\n",
      "El Jugador #366 pertenece al grupo de: Dribbles\n",
      "El Jugador #367 pertenece al grupo de: Dribbles\n",
      "El Jugador #368 pertenece al grupo de: Offsides\n",
      "El Jugador #369 pertenece al grupo de: Asistencias\n",
      "El Jugador #370 pertenece al grupo de: Offsides\n",
      "El Jugador #371 pertenece al grupo de: Dribbles\n",
      "El Jugador #372 pertenece al grupo de: Asistencias\n",
      "El Jugador #373 pertenece al grupo de: Dribbles\n",
      "El Jugador #374 pertenece al grupo de: Dribbles\n",
      "El Jugador #375 pertenece al grupo de: Dribbles\n",
      "El Jugador #376 pertenece al grupo de: Dribbles\n",
      "El Jugador #377 pertenece al grupo de: Dribbles\n",
      "El Jugador #378 pertenece al grupo de: Dribbles\n",
      "El Jugador #379 pertenece al grupo de: Asistencias\n",
      "El Jugador #380 pertenece al grupo de: Asistencias\n",
      "El Jugador #381 pertenece al grupo de: Asistencias\n",
      "El Jugador #382 pertenece al grupo de: Offsides\n",
      "El Jugador #383 pertenece al grupo de: Dribbles\n",
      "El Jugador #384 pertenece al grupo de: Dribbles\n",
      "El Jugador #385 pertenece al grupo de: Dribbles\n",
      "El Jugador #386 pertenece al grupo de: Dribbles\n",
      "El Jugador #387 pertenece al grupo de: Dribbles\n",
      "El Jugador #388 pertenece al grupo de: Asistencias\n",
      "El Jugador #389 pertenece al grupo de: Asistencias\n",
      "El Jugador #390 pertenece al grupo de: Offsides\n",
      "El Jugador #391 pertenece al grupo de: Asistencias\n",
      "El Jugador #392 pertenece al grupo de: Asistencias\n",
      "El Jugador #393 pertenece al grupo de: Asistencias\n",
      "El Jugador #394 pertenece al grupo de: Offsides\n",
      "El Jugador #395 pertenece al grupo de: Offsides\n",
      "El Jugador #396 pertenece al grupo de: Asistencias\n",
      "El Jugador #397 pertenece al grupo de: Asistencias\n",
      "El Jugador #398 pertenece al grupo de: Asistencias\n",
      "El Jugador #399 pertenece al grupo de: Offsides\n"
     ]
    }
   ],
   "source": [
    "index = 0\n",
    "for customer in predicted:\n",
    "    print(f'El Jugador #{index} pertenece al grupo de: {labels[customer]}')\n",
    "    index += 1"
   ]
  }
 ],
 "metadata": {
  "kernelspec": {
   "display_name": "Python 3",
   "language": "python",
   "name": "python3"
  },
  "language_info": {
   "codemirror_mode": {
    "name": "ipython",
    "version": 3
   },
   "file_extension": ".py",
   "mimetype": "text/x-python",
   "name": "python",
   "nbconvert_exporter": "python",
   "pygments_lexer": "ipython3",
   "version": "3.11.3"
  },
  "orig_nbformat": 4
 },
 "nbformat": 4,
 "nbformat_minor": 2
}
